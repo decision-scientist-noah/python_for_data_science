{
  "nbformat": 4,
  "nbformat_minor": 0,
  "metadata": {
    "colab": {
      "name": "Numpy.ipynb",
      "provenance": []
    },
    "kernelspec": {
      "name": "python3",
      "display_name": "Python 3"
    }
  },
  "cells": [
    {
      "cell_type": "markdown",
      "metadata": {
        "id": "c3cuAMDHZlUl",
        "colab_type": "text"
      },
      "source": [
        "Used for scientific computing\n",
        "\n",
        "<b> </b>\n",
        "\n",
        "NumPy is the library that gives Python its ability to work with data at speed. \n",
        "<b></b>\n",
        "\n",
        "useful linear algebra, Fourier transform, and random number capabilities\n",
        "<b></b>\n",
        "\n",
        "Originally, launched in 1995 as ‘Numeric,’ NumPy is the foundation on which many important Python data science libraries are built, including Pandas, SciPy and scikit-learn."
      ]
    },
    {
      "cell_type": "code",
      "metadata": {
        "id": "mvv5p0R5LmDd",
        "colab_type": "code",
        "colab": {}
      },
      "source": [
        "import numpy as np"
      ],
      "execution_count": 0,
      "outputs": []
    },
    {
      "cell_type": "markdown",
      "metadata": {
        "id": "v6QlAPtzb5Ao",
        "colab_type": "text"
      },
      "source": [
        "Creating **Arrays**"
      ]
    },
    {
      "cell_type": "code",
      "metadata": {
        "id": "9AB1Twl-b57t",
        "colab_type": "code",
        "outputId": "84372908-9ec7-4259-f70f-e584b4970c35",
        "colab": {
          "base_uri": "https://localhost:8080/",
          "height": 34
        }
      },
      "source": [
        "np.array([1,2,3]) #one dimensional"
      ],
      "execution_count": 2,
      "outputs": [
        {
          "output_type": "execute_result",
          "data": {
            "text/plain": [
              "array([1, 2, 3])"
            ]
          },
          "metadata": {
            "tags": []
          },
          "execution_count": 2
        }
      ]
    },
    {
      "cell_type": "code",
      "metadata": {
        "id": "AaZ0aOBrcACb",
        "colab_type": "code",
        "outputId": "cff72614-8286-481e-8e13-45cc0a0f492c",
        "colab": {
          "base_uri": "https://localhost:8080/",
          "height": 51
        }
      },
      "source": [
        "np.array([(1,2,3),(4,5,6)]) #Two dimensional array"
      ],
      "execution_count": 3,
      "outputs": [
        {
          "output_type": "execute_result",
          "data": {
            "text/plain": [
              "array([[1, 2, 3],\n",
              "       [4, 5, 6]])"
            ]
          },
          "metadata": {
            "tags": []
          },
          "execution_count": 3
        }
      ]
    },
    {
      "cell_type": "code",
      "metadata": {
        "id": "bkfWZrWkeJJb",
        "colab_type": "code",
        "colab": {}
      },
      "source": [
        "my_list = [1,2,3,4]"
      ],
      "execution_count": 0,
      "outputs": []
    },
    {
      "cell_type": "code",
      "metadata": {
        "id": "XkOgfGXKeNHr",
        "colab_type": "code",
        "outputId": "f1703272-fc39-459a-ab28-c48879c86561",
        "colab": {
          "base_uri": "https://localhost:8080/",
          "height": 34
        }
      },
      "source": [
        "np.array(my_list)"
      ],
      "execution_count": 5,
      "outputs": [
        {
          "output_type": "execute_result",
          "data": {
            "text/plain": [
              "array([1, 2, 3, 4])"
            ]
          },
          "metadata": {
            "tags": []
          },
          "execution_count": 5
        }
      ]
    },
    {
      "cell_type": "code",
      "metadata": {
        "id": "AdCmwEuycO2c",
        "colab_type": "code",
        "outputId": "f12b7d1d-7c1a-4077-aae8-fe456535d3e4",
        "colab": {
          "base_uri": "https://localhost:8080/",
          "height": 34
        }
      },
      "source": [
        "np.zeros(3)"
      ],
      "execution_count": 6,
      "outputs": [
        {
          "output_type": "execute_result",
          "data": {
            "text/plain": [
              "array([0., 0., 0.])"
            ]
          },
          "metadata": {
            "tags": []
          },
          "execution_count": 6
        }
      ]
    },
    {
      "cell_type": "code",
      "metadata": {
        "id": "_2EV6jhHcgCf",
        "colab_type": "code",
        "outputId": "844fd9e9-8cb8-40a7-8f74-df49860f5ab8",
        "colab": {
          "base_uri": "https://localhost:8080/",
          "height": 85
        }
      },
      "source": [
        "np.ones((4,3))"
      ],
      "execution_count": 7,
      "outputs": [
        {
          "output_type": "execute_result",
          "data": {
            "text/plain": [
              "array([[1., 1., 1.],\n",
              "       [1., 1., 1.],\n",
              "       [1., 1., 1.],\n",
              "       [1., 1., 1.]])"
            ]
          },
          "metadata": {
            "tags": []
          },
          "execution_count": 7
        }
      ]
    },
    {
      "cell_type": "code",
      "metadata": {
        "id": "tXDx6VBYcq0U",
        "colab_type": "code",
        "outputId": "ff85b68b-39fc-43b7-e64a-ee261541c92e",
        "colab": {
          "base_uri": "https://localhost:8080/",
          "height": 102
        }
      },
      "source": [
        "np.eye(5)"
      ],
      "execution_count": 8,
      "outputs": [
        {
          "output_type": "execute_result",
          "data": {
            "text/plain": [
              "array([[1., 0., 0., 0., 0.],\n",
              "       [0., 1., 0., 0., 0.],\n",
              "       [0., 0., 1., 0., 0.],\n",
              "       [0., 0., 0., 1., 0.],\n",
              "       [0., 0., 0., 0., 1.]])"
            ]
          },
          "metadata": {
            "tags": []
          },
          "execution_count": 8
        }
      ]
    },
    {
      "cell_type": "code",
      "metadata": {
        "id": "BjseYkqec7xv",
        "colab_type": "code",
        "outputId": "9161ad1f-c480-4bb5-fc79-0fb275d462cc",
        "colab": {
          "base_uri": "https://localhost:8080/",
          "height": 34
        }
      },
      "source": [
        "np.linspace(0,10,3) "
      ],
      "execution_count": 9,
      "outputs": [
        {
          "output_type": "execute_result",
          "data": {
            "text/plain": [
              "array([ 0.,  5., 10.])"
            ]
          },
          "metadata": {
            "tags": []
          },
          "execution_count": 9
        }
      ]
    },
    {
      "cell_type": "code",
      "metadata": {
        "id": "CMiBafRRdCFq",
        "colab_type": "code",
        "outputId": "5593c758-caa6-406b-ef88-b03539288505",
        "colab": {
          "base_uri": "https://localhost:8080/",
          "height": 68
        }
      },
      "source": [
        "np.linspace(0,100,12)"
      ],
      "execution_count": 10,
      "outputs": [
        {
          "output_type": "execute_result",
          "data": {
            "text/plain": [
              "array([  0.        ,   9.09090909,  18.18181818,  27.27272727,\n",
              "        36.36363636,  45.45454545,  54.54545455,  63.63636364,\n",
              "        72.72727273,  81.81818182,  90.90909091, 100.        ])"
            ]
          },
          "metadata": {
            "tags": []
          },
          "execution_count": 10
        }
      ]
    },
    {
      "cell_type": "code",
      "metadata": {
        "id": "0VqbJwrBdKyk",
        "colab_type": "code",
        "outputId": "5d164484-5077-4633-bb72-2a093d4b1089",
        "colab": {
          "base_uri": "https://localhost:8080/",
          "height": 34
        }
      },
      "source": [
        "np.arange(0,10,3) "
      ],
      "execution_count": 11,
      "outputs": [
        {
          "output_type": "execute_result",
          "data": {
            "text/plain": [
              "array([0, 3, 6, 9])"
            ]
          },
          "metadata": {
            "tags": []
          },
          "execution_count": 11
        }
      ]
    },
    {
      "cell_type": "code",
      "metadata": {
        "id": "WA0mvXzWdYSu",
        "colab_type": "code",
        "outputId": "8cc378fd-adad-4434-a5d0-8a791b382bfd",
        "colab": {
          "base_uri": "https://localhost:8080/",
          "height": 34
        }
      },
      "source": [
        "np.arange(0,10,2)"
      ],
      "execution_count": 12,
      "outputs": [
        {
          "output_type": "execute_result",
          "data": {
            "text/plain": [
              "array([0, 2, 4, 6, 8])"
            ]
          },
          "metadata": {
            "tags": []
          },
          "execution_count": 12
        }
      ]
    },
    {
      "cell_type": "code",
      "metadata": {
        "id": "OA4qriRe6rpo",
        "colab_type": "code",
        "outputId": "49dd8cf5-c826-4cc9-e7fa-6448e95a6fd1",
        "colab": {
          "base_uri": "https://localhost:8080/",
          "height": 34
        }
      },
      "source": [
        "np.random.rand(2)"
      ],
      "execution_count": 13,
      "outputs": [
        {
          "output_type": "execute_result",
          "data": {
            "text/plain": [
              "array([0.93114597, 0.92870315])"
            ]
          },
          "metadata": {
            "tags": []
          },
          "execution_count": 13
        }
      ]
    },
    {
      "cell_type": "code",
      "metadata": {
        "id": "79qPag9Hdbxe",
        "colab_type": "code",
        "outputId": "79706007-5c9d-449f-b6c6-a1a2abb16122",
        "colab": {
          "base_uri": "https://localhost:8080/",
          "height": 85
        }
      },
      "source": [
        "np.random.rand(4,5)"
      ],
      "execution_count": 14,
      "outputs": [
        {
          "output_type": "execute_result",
          "data": {
            "text/plain": [
              "array([[0.09268667, 0.71134892, 0.74447848, 0.99379431, 0.32065647],\n",
              "       [0.84150704, 0.790254  , 0.17260027, 0.86244008, 0.52621532],\n",
              "       [0.92388753, 0.07492731, 0.93257584, 0.88670068, 0.44799747],\n",
              "       [0.7317299 , 0.85026448, 0.43541306, 0.72409257, 0.30177437]])"
            ]
          },
          "metadata": {
            "tags": []
          },
          "execution_count": 14
        }
      ]
    },
    {
      "cell_type": "markdown",
      "metadata": {
        "id": "UkGMrqaX8lZ5",
        "colab_type": "text"
      },
      "source": [
        "**Creating a Matrix**"
      ]
    },
    {
      "cell_type": "code",
      "metadata": {
        "id": "RcQEmU2E8w1a",
        "colab_type": "code",
        "colab": {}
      },
      "source": [
        "list_mat = ([1,2,3],[4,5,6],[7,8,9])"
      ],
      "execution_count": 0,
      "outputs": []
    },
    {
      "cell_type": "code",
      "metadata": {
        "id": "lYrXRYFd8-2V",
        "colab_type": "code",
        "outputId": "adddbbc4-cf7f-4b7e-8bc7-2934256c4d90",
        "colab": {
          "base_uri": "https://localhost:8080/",
          "height": 68
        }
      },
      "source": [
        "np.array(list_mat)"
      ],
      "execution_count": 16,
      "outputs": [
        {
          "output_type": "execute_result",
          "data": {
            "text/plain": [
              "array([[1, 2, 3],\n",
              "       [4, 5, 6],\n",
              "       [7, 8, 9]])"
            ]
          },
          "metadata": {
            "tags": []
          },
          "execution_count": 16
        }
      ]
    },
    {
      "cell_type": "code",
      "metadata": {
        "id": "tzzmAozPeDqO",
        "colab_type": "code",
        "colab": {}
      },
      "source": [
        "ar = np.arange(1,10,1)"
      ],
      "execution_count": 0,
      "outputs": []
    },
    {
      "cell_type": "code",
      "metadata": {
        "id": "Rs1lM60H7jf2",
        "colab_type": "code",
        "outputId": "17ecc62d-f172-4df3-8d77-0dda3c47734a",
        "colab": {
          "base_uri": "https://localhost:8080/",
          "height": 34
        }
      },
      "source": [
        "ar"
      ],
      "execution_count": 18,
      "outputs": [
        {
          "output_type": "execute_result",
          "data": {
            "text/plain": [
              "array([1, 2, 3, 4, 5, 6, 7, 8, 9])"
            ]
          },
          "metadata": {
            "tags": []
          },
          "execution_count": 18
        }
      ]
    },
    {
      "cell_type": "code",
      "metadata": {
        "id": "d61RmInk7mNV",
        "colab_type": "code",
        "outputId": "1e4918d1-760a-4920-9697-54c1cd1a5a27",
        "colab": {
          "base_uri": "https://localhost:8080/",
          "height": 68
        }
      },
      "source": [
        "ar.reshape(3,3)"
      ],
      "execution_count": 19,
      "outputs": [
        {
          "output_type": "execute_result",
          "data": {
            "text/plain": [
              "array([[1, 2, 3],\n",
              "       [4, 5, 6],\n",
              "       [7, 8, 9]])"
            ]
          },
          "metadata": {
            "tags": []
          },
          "execution_count": 19
        }
      ]
    },
    {
      "cell_type": "markdown",
      "metadata": {
        "id": "sEy0VTx_9J1i",
        "colab_type": "text"
      },
      "source": [
        "Min and Max"
      ]
    },
    {
      "cell_type": "code",
      "metadata": {
        "id": "-icmoCk5-CKH",
        "colab_type": "code",
        "colab": {}
      },
      "source": [
        "ar = np.array([10, 12, 41, 17, 49,  2, 46,  3, 19, 39])"
      ],
      "execution_count": 0,
      "outputs": []
    },
    {
      "cell_type": "code",
      "metadata": {
        "id": "-XieeU6g-SiE",
        "colab_type": "code",
        "outputId": "69076017-bc81-4d84-8fc7-2fbf2eff098f",
        "colab": {
          "base_uri": "https://localhost:8080/",
          "height": 34
        }
      },
      "source": [
        "ar"
      ],
      "execution_count": 21,
      "outputs": [
        {
          "output_type": "execute_result",
          "data": {
            "text/plain": [
              "array([10, 12, 41, 17, 49,  2, 46,  3, 19, 39])"
            ]
          },
          "metadata": {
            "tags": []
          },
          "execution_count": 21
        }
      ]
    },
    {
      "cell_type": "code",
      "metadata": {
        "id": "EGsw7UuA-S_0",
        "colab_type": "code",
        "outputId": "fff21947-fb27-40e9-c252-4b59b6d22a6c",
        "colab": {
          "base_uri": "https://localhost:8080/",
          "height": 34
        }
      },
      "source": [
        "ar.min()"
      ],
      "execution_count": 22,
      "outputs": [
        {
          "output_type": "execute_result",
          "data": {
            "text/plain": [
              "2"
            ]
          },
          "metadata": {
            "tags": []
          },
          "execution_count": 22
        }
      ]
    },
    {
      "cell_type": "code",
      "metadata": {
        "id": "VcCeaXjn_1aA",
        "colab_type": "code",
        "outputId": "22c1a892-8cfc-46a6-8f21-7e34acef1589",
        "colab": {
          "base_uri": "https://localhost:8080/",
          "height": 34
        }
      },
      "source": [
        "ar.max()"
      ],
      "execution_count": 23,
      "outputs": [
        {
          "output_type": "execute_result",
          "data": {
            "text/plain": [
              "49"
            ]
          },
          "metadata": {
            "tags": []
          },
          "execution_count": 23
        }
      ]
    },
    {
      "cell_type": "code",
      "metadata": {
        "id": "Tjem02mb_3DP",
        "colab_type": "code",
        "outputId": "488e82b6-daf2-4953-d156-ab358c9e126a",
        "colab": {
          "base_uri": "https://localhost:8080/",
          "height": 34
        }
      },
      "source": [
        "ar.argmax()"
      ],
      "execution_count": 24,
      "outputs": [
        {
          "output_type": "execute_result",
          "data": {
            "text/plain": [
              "4"
            ]
          },
          "metadata": {
            "tags": []
          },
          "execution_count": 24
        }
      ]
    },
    {
      "cell_type": "code",
      "metadata": {
        "id": "W93pkfhh_5J0",
        "colab_type": "code",
        "outputId": "9f0c306b-e209-4e88-ae95-177d35babd34",
        "colab": {
          "base_uri": "https://localhost:8080/",
          "height": 34
        }
      },
      "source": [
        "ar.argmin()"
      ],
      "execution_count": 25,
      "outputs": [
        {
          "output_type": "execute_result",
          "data": {
            "text/plain": [
              "5"
            ]
          },
          "metadata": {
            "tags": []
          },
          "execution_count": 25
        }
      ]
    },
    {
      "cell_type": "markdown",
      "metadata": {
        "id": "75HZyOVz_76K",
        "colab_type": "text"
      },
      "source": [
        "Shape"
      ]
    },
    {
      "cell_type": "code",
      "metadata": {
        "id": "8EdytcqpAPX_",
        "colab_type": "code",
        "outputId": "2cd4141e-cf7f-41df-ded4-65f3e230521d",
        "colab": {
          "base_uri": "https://localhost:8080/",
          "height": 34
        }
      },
      "source": [
        "ar.shape"
      ],
      "execution_count": 26,
      "outputs": [
        {
          "output_type": "execute_result",
          "data": {
            "text/plain": [
              "(10,)"
            ]
          },
          "metadata": {
            "tags": []
          },
          "execution_count": 26
        }
      ]
    },
    {
      "cell_type": "markdown",
      "metadata": {
        "id": "6wqxauSbAV6q",
        "colab_type": "text"
      },
      "source": [
        "find dtype"
      ]
    },
    {
      "cell_type": "code",
      "metadata": {
        "id": "0Vm3gZcdAkKq",
        "colab_type": "code",
        "outputId": "8c93a9ae-d7c2-432e-b1ae-47c829ba0dfd",
        "colab": {
          "base_uri": "https://localhost:8080/",
          "height": 34
        }
      },
      "source": [
        "ar.dtype"
      ],
      "execution_count": 27,
      "outputs": [
        {
          "output_type": "execute_result",
          "data": {
            "text/plain": [
              "dtype('int64')"
            ]
          },
          "metadata": {
            "tags": []
          },
          "execution_count": 27
        }
      ]
    },
    {
      "cell_type": "code",
      "metadata": {
        "id": "q6NnSdTZAl--",
        "colab_type": "code",
        "colab": {}
      },
      "source": [
        "ar1 = np.array([1.2,3.4,4.5])"
      ],
      "execution_count": 0,
      "outputs": []
    },
    {
      "cell_type": "code",
      "metadata": {
        "id": "-0Nd0LjSAvRT",
        "colab_type": "code",
        "outputId": "96214652-ba0f-45b6-d7ec-5c9574cf3a97",
        "colab": {
          "base_uri": "https://localhost:8080/",
          "height": 34
        }
      },
      "source": [
        "ar1.dtype"
      ],
      "execution_count": 29,
      "outputs": [
        {
          "output_type": "execute_result",
          "data": {
            "text/plain": [
              "dtype('float64')"
            ]
          },
          "metadata": {
            "tags": []
          },
          "execution_count": 29
        }
      ]
    },
    {
      "cell_type": "markdown",
      "metadata": {
        "id": "9Zz9_Mf7Awfd",
        "colab_type": "text"
      },
      "source": [
        "**Adding/removing Elements**"
      ]
    },
    {
      "cell_type": "code",
      "metadata": {
        "id": "e3sUkM-NCct7",
        "colab_type": "code",
        "colab": {}
      },
      "source": [
        "ar = np.array([10, 12, 41, 17, 49,  2, 46,  3, 19, 39])"
      ],
      "execution_count": 0,
      "outputs": []
    },
    {
      "cell_type": "code",
      "metadata": {
        "id": "duZRdp1kCgTA",
        "colab_type": "code",
        "outputId": "6b6819e9-36bf-4352-f34b-6a293426c059",
        "colab": {
          "base_uri": "https://localhost:8080/",
          "height": 34
        }
      },
      "source": [
        "np.append(ar,[1,2])"
      ],
      "execution_count": 31,
      "outputs": [
        {
          "output_type": "execute_result",
          "data": {
            "text/plain": [
              "array([10, 12, 41, 17, 49,  2, 46,  3, 19, 39,  1,  2])"
            ]
          },
          "metadata": {
            "tags": []
          },
          "execution_count": 31
        }
      ]
    },
    {
      "cell_type": "code",
      "metadata": {
        "id": "Zyqf5AuRCoXo",
        "colab_type": "code",
        "outputId": "37689f69-b5f3-48c3-a0b8-f91714dbd1df",
        "colab": {
          "base_uri": "https://localhost:8080/",
          "height": 34
        }
      },
      "source": [
        "np.insert(ar,2,[3,4])   #inserts [3,4] before index 2"
      ],
      "execution_count": 32,
      "outputs": [
        {
          "output_type": "execute_result",
          "data": {
            "text/plain": [
              "array([10, 12,  3,  4, 41, 17, 49,  2, 46,  3, 19, 39])"
            ]
          },
          "metadata": {
            "tags": []
          },
          "execution_count": 32
        }
      ]
    },
    {
      "cell_type": "code",
      "metadata": {
        "id": "QzK0ZUZACpQD",
        "colab_type": "code",
        "outputId": "dd0d59da-adb9-4dd1-9f38-0627ff584acb",
        "colab": {
          "base_uri": "https://localhost:8080/",
          "height": 34
        }
      },
      "source": [
        "np.delete(ar,3) #delete index 3"
      ],
      "execution_count": 33,
      "outputs": [
        {
          "output_type": "execute_result",
          "data": {
            "text/plain": [
              "array([10, 12, 41, 49,  2, 46,  3, 19, 39])"
            ]
          },
          "metadata": {
            "tags": []
          },
          "execution_count": 33
        }
      ]
    },
    {
      "cell_type": "markdown",
      "metadata": {
        "id": "8HyWgS82DaHR",
        "colab_type": "text"
      },
      "source": [
        "Combining/splitting"
      ]
    },
    {
      "cell_type": "code",
      "metadata": {
        "id": "AcZfS8z8DtzC",
        "colab_type": "code",
        "colab": {}
      },
      "source": [
        "arr = [1,2,3]\n",
        "arr1 = [4,5,6]"
      ],
      "execution_count": 0,
      "outputs": []
    },
    {
      "cell_type": "code",
      "metadata": {
        "id": "e-r_bag1Dws9",
        "colab_type": "code",
        "outputId": "49b0c170-872f-42ae-90a7-5891319ae163",
        "colab": {
          "base_uri": "https://localhost:8080/",
          "height": 34
        }
      },
      "source": [
        "np.concatenate((arr,arr1))"
      ],
      "execution_count": 35,
      "outputs": [
        {
          "output_type": "execute_result",
          "data": {
            "text/plain": [
              "array([1, 2, 3, 4, 5, 6])"
            ]
          },
          "metadata": {
            "tags": []
          },
          "execution_count": 35
        }
      ]
    },
    {
      "cell_type": "code",
      "metadata": {
        "id": "Xll5nJkNmj9h",
        "colab_type": "code",
        "outputId": "5d51e45a-f6b1-4a54-de5e-d73157dd1143",
        "colab": {
          "base_uri": "https://localhost:8080/",
          "height": 34
        }
      },
      "source": [
        "ar"
      ],
      "execution_count": 36,
      "outputs": [
        {
          "output_type": "execute_result",
          "data": {
            "text/plain": [
              "array([10, 12, 41, 17, 49,  2, 46,  3, 19, 39])"
            ]
          },
          "metadata": {
            "tags": []
          },
          "execution_count": 36
        }
      ]
    },
    {
      "cell_type": "code",
      "metadata": {
        "id": "BD6kSaGdD5Sn",
        "colab_type": "code",
        "outputId": "387f8da3-088e-4956-d4ed-76984968e6e5",
        "colab": {
          "base_uri": "https://localhost:8080/",
          "height": 34
        }
      },
      "source": [
        "np.split(ar,2) "
      ],
      "execution_count": 37,
      "outputs": [
        {
          "output_type": "execute_result",
          "data": {
            "text/plain": [
              "[array([10, 12, 41, 17, 49]), array([ 2, 46,  3, 19, 39])]"
            ]
          },
          "metadata": {
            "tags": []
          },
          "execution_count": 37
        }
      ]
    },
    {
      "cell_type": "markdown",
      "metadata": {
        "id": "ZT5mBGbWE3wm",
        "colab_type": "text"
      },
      "source": [
        "Indexing/Slicing"
      ]
    },
    {
      "cell_type": "code",
      "metadata": {
        "id": "GzkkJi6WQQId",
        "colab_type": "code",
        "colab": {}
      },
      "source": [
        "ar = np.array([10, 12, 41, 17, 49,  2, 46,  3, 19, 39])"
      ],
      "execution_count": 0,
      "outputs": []
    },
    {
      "cell_type": "code",
      "metadata": {
        "id": "ygoKTTS9QVww",
        "colab_type": "code",
        "outputId": "a724ef00-89ba-4795-956a-bc471e2ac074",
        "colab": {
          "base_uri": "https://localhost:8080/",
          "height": 34
        }
      },
      "source": [
        "ar[4]"
      ],
      "execution_count": 39,
      "outputs": [
        {
          "output_type": "execute_result",
          "data": {
            "text/plain": [
              "49"
            ]
          },
          "metadata": {
            "tags": []
          },
          "execution_count": 39
        }
      ]
    },
    {
      "cell_type": "code",
      "metadata": {
        "id": "qStM_4glQW-O",
        "colab_type": "code",
        "outputId": "92c0be73-af94-4537-e04d-30e3fbbcb812",
        "colab": {
          "base_uri": "https://localhost:8080/",
          "height": 34
        }
      },
      "source": [
        "ar[[3,5]]"
      ],
      "execution_count": 40,
      "outputs": [
        {
          "output_type": "execute_result",
          "data": {
            "text/plain": [
              "array([17,  2])"
            ]
          },
          "metadata": {
            "tags": []
          },
          "execution_count": 40
        }
      ]
    },
    {
      "cell_type": "code",
      "metadata": {
        "id": "ny7nfWr3Qg_V",
        "colab_type": "code",
        "colab": {}
      },
      "source": [
        "ar[0] = 1"
      ],
      "execution_count": 0,
      "outputs": []
    },
    {
      "cell_type": "code",
      "metadata": {
        "id": "RSFFAfpdQ2LU",
        "colab_type": "code",
        "outputId": "68fe3552-a965-4591-a1bc-42ee54762d00",
        "colab": {
          "base_uri": "https://localhost:8080/",
          "height": 34
        }
      },
      "source": [
        "ar"
      ],
      "execution_count": 42,
      "outputs": [
        {
          "output_type": "execute_result",
          "data": {
            "text/plain": [
              "array([ 1, 12, 41, 17, 49,  2, 46,  3, 19, 39])"
            ]
          },
          "metadata": {
            "tags": []
          },
          "execution_count": 42
        }
      ]
    },
    {
      "cell_type": "code",
      "metadata": {
        "id": "au65g_q1Q3SL",
        "colab_type": "code",
        "outputId": "837a30b2-ef95-4920-dd54-861a4ac22c5f",
        "colab": {
          "base_uri": "https://localhost:8080/",
          "height": 34
        }
      },
      "source": [
        "ar[0:3]"
      ],
      "execution_count": 43,
      "outputs": [
        {
          "output_type": "execute_result",
          "data": {
            "text/plain": [
              "array([ 1, 12, 41])"
            ]
          },
          "metadata": {
            "tags": []
          },
          "execution_count": 43
        }
      ]
    },
    {
      "cell_type": "code",
      "metadata": {
        "id": "uPxUzNBlQ-lr",
        "colab_type": "code",
        "outputId": "c467fc38-8650-4208-a7fd-c3b91132d57e",
        "colab": {
          "base_uri": "https://localhost:8080/",
          "height": 34
        }
      },
      "source": [
        "ar[3:5]"
      ],
      "execution_count": 44,
      "outputs": [
        {
          "output_type": "execute_result",
          "data": {
            "text/plain": [
              "array([17, 49])"
            ]
          },
          "metadata": {
            "tags": []
          },
          "execution_count": 44
        }
      ]
    },
    {
      "cell_type": "code",
      "metadata": {
        "id": "KlZ62S0bRAqQ",
        "colab_type": "code",
        "outputId": "d63db3de-6d6f-4dc6-9acb-109b0c31e0c8",
        "colab": {
          "base_uri": "https://localhost:8080/",
          "height": 34
        }
      },
      "source": [
        "ar[:2]"
      ],
      "execution_count": 45,
      "outputs": [
        {
          "output_type": "execute_result",
          "data": {
            "text/plain": [
              "array([ 1, 12])"
            ]
          },
          "metadata": {
            "tags": []
          },
          "execution_count": 45
        }
      ]
    },
    {
      "cell_type": "code",
      "metadata": {
        "id": "3JwVtzy_REVO",
        "colab_type": "code",
        "outputId": "c2c3dee6-eb5f-4ceb-f7e5-84ef1ad96e69",
        "colab": {
          "base_uri": "https://localhost:8080/",
          "height": 34
        }
      },
      "source": [
        "ar[5:]"
      ],
      "execution_count": 46,
      "outputs": [
        {
          "output_type": "execute_result",
          "data": {
            "text/plain": [
              "array([ 2, 46,  3, 19, 39])"
            ]
          },
          "metadata": {
            "tags": []
          },
          "execution_count": 46
        }
      ]
    },
    {
      "cell_type": "code",
      "metadata": {
        "id": "kk3fc2gYRF1v",
        "colab_type": "code",
        "outputId": "87259e84-233f-44e1-957b-1913ba62c55a",
        "colab": {
          "base_uri": "https://localhost:8080/",
          "height": 51
        }
      },
      "source": [
        "ar < 20"
      ],
      "execution_count": 47,
      "outputs": [
        {
          "output_type": "execute_result",
          "data": {
            "text/plain": [
              "array([ True,  True, False,  True, False,  True, False,  True,  True,\n",
              "       False])"
            ]
          },
          "metadata": {
            "tags": []
          },
          "execution_count": 47
        }
      ]
    },
    {
      "cell_type": "code",
      "metadata": {
        "id": "kwUNRck4SxSP",
        "colab_type": "code",
        "outputId": "65aae5dc-ad39-4233-8ae3-f58988fdf780",
        "colab": {
          "base_uri": "https://localhost:8080/",
          "height": 34
        }
      },
      "source": [
        "ar[ar < 5]"
      ],
      "execution_count": 48,
      "outputs": [
        {
          "output_type": "execute_result",
          "data": {
            "text/plain": [
              "array([1, 2, 3])"
            ]
          },
          "metadata": {
            "tags": []
          },
          "execution_count": 48
        }
      ]
    },
    {
      "cell_type": "code",
      "metadata": {
        "id": "wyu1-GDeRJ_A",
        "colab_type": "code",
        "outputId": "dc0f2559-b6df-4729-f914-19da33365cf1",
        "colab": {
          "base_uri": "https://localhost:8080/",
          "height": 51
        }
      },
      "source": [
        "(ar < 5) | (ar > 30)"
      ],
      "execution_count": 49,
      "outputs": [
        {
          "output_type": "execute_result",
          "data": {
            "text/plain": [
              "array([ True, False,  True, False,  True,  True,  True,  True, False,\n",
              "        True])"
            ]
          },
          "metadata": {
            "tags": []
          },
          "execution_count": 49
        }
      ]
    },
    {
      "cell_type": "code",
      "metadata": {
        "id": "ir5ssATkS4bf",
        "colab_type": "code",
        "outputId": "90a5f168-9670-4c6c-a0dd-3c9249549a80",
        "colab": {
          "base_uri": "https://localhost:8080/",
          "height": 34
        }
      },
      "source": [
        "ar[(ar < 5) | (ar > 30)]"
      ],
      "execution_count": 50,
      "outputs": [
        {
          "output_type": "execute_result",
          "data": {
            "text/plain": [
              "array([ 1, 41, 49,  2, 46,  3, 39])"
            ]
          },
          "metadata": {
            "tags": []
          },
          "execution_count": 50
        }
      ]
    },
    {
      "cell_type": "code",
      "metadata": {
        "id": "wwuvT5QqRvvS",
        "colab_type": "code",
        "outputId": "5b5651aa-849d-49ed-e814-5535e7a42058",
        "colab": {
          "base_uri": "https://localhost:8080/",
          "height": 34
        }
      },
      "source": [
        "~ar"
      ],
      "execution_count": 51,
      "outputs": [
        {
          "output_type": "execute_result",
          "data": {
            "text/plain": [
              "array([ -2, -13, -42, -18, -50,  -3, -47,  -4, -20, -40])"
            ]
          },
          "metadata": {
            "tags": []
          },
          "execution_count": 51
        }
      ]
    },
    {
      "cell_type": "code",
      "metadata": {
        "id": "iFFSagDUUZk6",
        "colab_type": "code",
        "colab": {}
      },
      "source": [
        "my_list = ([10,2,39],[14,87,62],[70,18,49])"
      ],
      "execution_count": 0,
      "outputs": []
    },
    {
      "cell_type": "code",
      "metadata": {
        "id": "6GzGJgV9UlMp",
        "colab_type": "code",
        "colab": {}
      },
      "source": [
        "ar = np.array(my_list)"
      ],
      "execution_count": 0,
      "outputs": []
    },
    {
      "cell_type": "code",
      "metadata": {
        "id": "oMN1mmi2UowM",
        "colab_type": "code",
        "outputId": "8c921626-c496-4003-905c-20b3dc49c773",
        "colab": {
          "base_uri": "https://localhost:8080/",
          "height": 68
        }
      },
      "source": [
        "ar"
      ],
      "execution_count": 54,
      "outputs": [
        {
          "output_type": "execute_result",
          "data": {
            "text/plain": [
              "array([[10,  2, 39],\n",
              "       [14, 87, 62],\n",
              "       [70, 18, 49]])"
            ]
          },
          "metadata": {
            "tags": []
          },
          "execution_count": 54
        }
      ]
    },
    {
      "cell_type": "code",
      "metadata": {
        "id": "2GhSCWeCUti0",
        "colab_type": "code",
        "outputId": "d3cea10b-319d-4fe9-fd6f-3785c4fe4067",
        "colab": {
          "base_uri": "https://localhost:8080/",
          "height": 68
        }
      },
      "source": [
        "ar[:,:1]"
      ],
      "execution_count": 55,
      "outputs": [
        {
          "output_type": "execute_result",
          "data": {
            "text/plain": [
              "array([[10],\n",
              "       [14],\n",
              "       [70]])"
            ]
          },
          "metadata": {
            "tags": []
          },
          "execution_count": 55
        }
      ]
    },
    {
      "cell_type": "code",
      "metadata": {
        "id": "L5ZpCFlyUzoM",
        "colab_type": "code",
        "outputId": "da3a6ce6-504d-4a85-e3ca-059765454dad",
        "colab": {
          "base_uri": "https://localhost:8080/",
          "height": 34
        }
      },
      "source": [
        "ar[:1]"
      ],
      "execution_count": 56,
      "outputs": [
        {
          "output_type": "execute_result",
          "data": {
            "text/plain": [
              "array([[10,  2, 39]])"
            ]
          },
          "metadata": {
            "tags": []
          },
          "execution_count": 56
        }
      ]
    },
    {
      "cell_type": "code",
      "metadata": {
        "id": "e-yCkKutU-vY",
        "colab_type": "code",
        "outputId": "39f088ab-39c3-4bd7-c219-a005af81dbac",
        "colab": {
          "base_uri": "https://localhost:8080/",
          "height": 34
        }
      },
      "source": [
        "ar[2:]"
      ],
      "execution_count": 57,
      "outputs": [
        {
          "output_type": "execute_result",
          "data": {
            "text/plain": [
              "array([[70, 18, 49]])"
            ]
          },
          "metadata": {
            "tags": []
          },
          "execution_count": 57
        }
      ]
    },
    {
      "cell_type": "code",
      "metadata": {
        "id": "WJ9NKxLcVGxr",
        "colab_type": "code",
        "outputId": "bdce1852-8e23-44de-da13-41f44c6c9e08",
        "colab": {
          "base_uri": "https://localhost:8080/",
          "height": 51
        }
      },
      "source": [
        "ar[:2,:2]"
      ],
      "execution_count": 58,
      "outputs": [
        {
          "output_type": "execute_result",
          "data": {
            "text/plain": [
              "array([[10,  2],\n",
              "       [14, 87]])"
            ]
          },
          "metadata": {
            "tags": []
          },
          "execution_count": 58
        }
      ]
    },
    {
      "cell_type": "code",
      "metadata": {
        "id": "Sk0hGOfgd8Ed",
        "colab_type": "code",
        "outputId": "a91a770f-6541-4c21-9dce-eee8b7595266",
        "colab": {
          "base_uri": "https://localhost:8080/",
          "height": 51
        }
      },
      "source": [
        "ar[1:,1:]"
      ],
      "execution_count": 59,
      "outputs": [
        {
          "output_type": "execute_result",
          "data": {
            "text/plain": [
              "array([[87, 62],\n",
              "       [18, 49]])"
            ]
          },
          "metadata": {
            "tags": []
          },
          "execution_count": 59
        }
      ]
    },
    {
      "cell_type": "code",
      "metadata": {
        "id": "xF6ZUk5IeKxM",
        "colab_type": "code",
        "colab": {}
      },
      "source": [
        "ar[0,0] = 1"
      ],
      "execution_count": 0,
      "outputs": []
    },
    {
      "cell_type": "code",
      "metadata": {
        "id": "esldDufkeOrA",
        "colab_type": "code",
        "outputId": "1ce66719-6637-4dca-b8d3-6acb4aa5ea35",
        "colab": {
          "base_uri": "https://localhost:8080/",
          "height": 68
        }
      },
      "source": [
        "ar"
      ],
      "execution_count": 61,
      "outputs": [
        {
          "output_type": "execute_result",
          "data": {
            "text/plain": [
              "array([[ 1,  2, 39],\n",
              "       [14, 87, 62],\n",
              "       [70, 18, 49]])"
            ]
          },
          "metadata": {
            "tags": []
          },
          "execution_count": 61
        }
      ]
    },
    {
      "cell_type": "code",
      "metadata": {
        "id": "xOhhprjgePGP",
        "colab_type": "code",
        "outputId": "9fe052b5-d980-4d75-a268-0391a4244980",
        "colab": {
          "base_uri": "https://localhost:8080/",
          "height": 68
        }
      },
      "source": [
        "ar > 5 "
      ],
      "execution_count": 62,
      "outputs": [
        {
          "output_type": "execute_result",
          "data": {
            "text/plain": [
              "array([[False, False,  True],\n",
              "       [ True,  True,  True],\n",
              "       [ True,  True,  True]])"
            ]
          },
          "metadata": {
            "tags": []
          },
          "execution_count": 62
        }
      ]
    },
    {
      "cell_type": "code",
      "metadata": {
        "id": "FyCQc3gQeVys",
        "colab_type": "code",
        "outputId": "5fd027cd-adc1-485a-c26c-16f63c0fc4cb",
        "colab": {
          "base_uri": "https://localhost:8080/",
          "height": 34
        }
      },
      "source": [
        "ar[ar > 5]"
      ],
      "execution_count": 63,
      "outputs": [
        {
          "output_type": "execute_result",
          "data": {
            "text/plain": [
              "array([39, 14, 87, 62, 70, 18, 49])"
            ]
          },
          "metadata": {
            "tags": []
          },
          "execution_count": 63
        }
      ]
    },
    {
      "cell_type": "code",
      "metadata": {
        "id": "JwXtuKSVeYpd",
        "colab_type": "code",
        "outputId": "4ff20520-838b-4454-cd99-928da59972a4",
        "colab": {
          "base_uri": "https://localhost:8080/",
          "height": 68
        }
      },
      "source": [
        "~ar"
      ],
      "execution_count": 64,
      "outputs": [
        {
          "output_type": "execute_result",
          "data": {
            "text/plain": [
              "array([[ -2,  -3, -40],\n",
              "       [-15, -88, -63],\n",
              "       [-71, -19, -50]])"
            ]
          },
          "metadata": {
            "tags": []
          },
          "execution_count": 64
        }
      ]
    },
    {
      "cell_type": "markdown",
      "metadata": {
        "id": "o87FCeg5C_MO",
        "colab_type": "text"
      },
      "source": [
        "Copying/sorting/reshaping"
      ]
    },
    {
      "cell_type": "code",
      "metadata": {
        "id": "LiiW5J89fYbX",
        "colab_type": "code",
        "colab": {}
      },
      "source": [
        "ar = np.array([10, 12, 41, 17, 49,  2, 46,  3, 19, 39])"
      ],
      "execution_count": 0,
      "outputs": []
    },
    {
      "cell_type": "code",
      "metadata": {
        "id": "32UrQFdRfgua",
        "colab_type": "code",
        "colab": {}
      },
      "source": [
        "ar1 = ar.copy()"
      ],
      "execution_count": 0,
      "outputs": []
    },
    {
      "cell_type": "code",
      "metadata": {
        "id": "XWb0ynQ6gHny",
        "colab_type": "code",
        "colab": {}
      },
      "source": [
        "ar1.sort()"
      ],
      "execution_count": 0,
      "outputs": []
    },
    {
      "cell_type": "code",
      "metadata": {
        "id": "qWWr_3HJgJgl",
        "colab_type": "code",
        "outputId": "9f1cd483-6baa-43c4-a64a-431992062b72",
        "colab": {
          "base_uri": "https://localhost:8080/",
          "height": 34
        }
      },
      "source": [
        "ar1"
      ],
      "execution_count": 68,
      "outputs": [
        {
          "output_type": "execute_result",
          "data": {
            "text/plain": [
              "array([ 2,  3, 10, 12, 17, 19, 39, 41, 46, 49])"
            ]
          },
          "metadata": {
            "tags": []
          },
          "execution_count": 68
        }
      ]
    },
    {
      "cell_type": "code",
      "metadata": {
        "id": "2DvEoA4XgKjq",
        "colab_type": "code",
        "outputId": "836a3e06-2fc0-4f57-ad7a-e044f9dc6da6",
        "colab": {
          "base_uri": "https://localhost:8080/",
          "height": 34
        }
      },
      "source": [
        "ar"
      ],
      "execution_count": 69,
      "outputs": [
        {
          "output_type": "execute_result",
          "data": {
            "text/plain": [
              "array([10, 12, 41, 17, 49,  2, 46,  3, 19, 39])"
            ]
          },
          "metadata": {
            "tags": []
          },
          "execution_count": 69
        }
      ]
    },
    {
      "cell_type": "markdown",
      "metadata": {
        "id": "cZM5LLgpgPhh",
        "colab_type": "text"
      },
      "source": [
        "2D array"
      ]
    },
    {
      "cell_type": "code",
      "metadata": {
        "id": "uLzev91aDBYm",
        "colab_type": "code",
        "colab": {}
      },
      "source": [
        "my_list = ([10,2,39],[14,87,62],[70,18,49])"
      ],
      "execution_count": 0,
      "outputs": []
    },
    {
      "cell_type": "code",
      "metadata": {
        "id": "p-zQF_tSTi_0",
        "colab_type": "code",
        "colab": {}
      },
      "source": [
        "ar = np.array(my_list)"
      ],
      "execution_count": 0,
      "outputs": []
    },
    {
      "cell_type": "code",
      "metadata": {
        "id": "kRuGGvoVB8HO",
        "colab_type": "code",
        "outputId": "eb09184c-fbe6-4969-e439-10e2bd0d21ad",
        "colab": {
          "base_uri": "https://localhost:8080/",
          "height": 68
        }
      },
      "source": [
        "ar"
      ],
      "execution_count": 72,
      "outputs": [
        {
          "output_type": "execute_result",
          "data": {
            "text/plain": [
              "array([[10,  2, 39],\n",
              "       [14, 87, 62],\n",
              "       [70, 18, 49]])"
            ]
          },
          "metadata": {
            "tags": []
          },
          "execution_count": 72
        }
      ]
    },
    {
      "cell_type": "code",
      "metadata": {
        "id": "pjPm1OOfFly1",
        "colab_type": "code",
        "colab": {}
      },
      "source": [
        "ar1 = ar.copy()"
      ],
      "execution_count": 0,
      "outputs": []
    },
    {
      "cell_type": "code",
      "metadata": {
        "id": "8FWtVMRwCBdo",
        "colab_type": "code",
        "colab": {}
      },
      "source": [
        "ar1.sort()"
      ],
      "execution_count": 0,
      "outputs": []
    },
    {
      "cell_type": "code",
      "metadata": {
        "id": "6Yt4a7XlCS6B",
        "colab_type": "code",
        "outputId": "ec0f45a1-8abc-459a-e056-d5cc0bc30322",
        "colab": {
          "base_uri": "https://localhost:8080/",
          "height": 68
        }
      },
      "source": [
        "ar1"
      ],
      "execution_count": 75,
      "outputs": [
        {
          "output_type": "execute_result",
          "data": {
            "text/plain": [
              "array([[ 2, 10, 39],\n",
              "       [14, 62, 87],\n",
              "       [18, 49, 70]])"
            ]
          },
          "metadata": {
            "tags": []
          },
          "execution_count": 75
        }
      ]
    },
    {
      "cell_type": "code",
      "metadata": {
        "id": "ob7Pbk7jCVmS",
        "colab_type": "code",
        "outputId": "8d8cf218-2262-4f5b-b3d0-4cb175466f42",
        "colab": {
          "base_uri": "https://localhost:8080/",
          "height": 68
        }
      },
      "source": [
        "ar"
      ],
      "execution_count": 76,
      "outputs": [
        {
          "output_type": "execute_result",
          "data": {
            "text/plain": [
              "array([[10,  2, 39],\n",
              "       [14, 87, 62],\n",
              "       [70, 18, 49]])"
            ]
          },
          "metadata": {
            "tags": []
          },
          "execution_count": 76
        }
      ]
    },
    {
      "cell_type": "code",
      "metadata": {
        "id": "WxqpJehQCX-V",
        "colab_type": "code",
        "outputId": "9fe024af-064a-4a17-961a-c430e924cb4c",
        "colab": {
          "base_uri": "https://localhost:8080/",
          "height": 68
        }
      },
      "source": [
        "ar1.T"
      ],
      "execution_count": 77,
      "outputs": [
        {
          "output_type": "execute_result",
          "data": {
            "text/plain": [
              "array([[ 2, 14, 18],\n",
              "       [10, 62, 49],\n",
              "       [39, 87, 70]])"
            ]
          },
          "metadata": {
            "tags": []
          },
          "execution_count": 77
        }
      ]
    },
    {
      "cell_type": "markdown",
      "metadata": {
        "id": "wNJJRjgjR2ha",
        "colab_type": "text"
      },
      "source": [
        "Math operations"
      ]
    },
    {
      "cell_type": "code",
      "metadata": {
        "id": "UnoA6wQUR7Jm",
        "colab_type": "code",
        "colab": {}
      },
      "source": [
        "ar = np.array([1,2,3,4,5,6,7,8,9,10])"
      ],
      "execution_count": 0,
      "outputs": []
    },
    {
      "cell_type": "code",
      "metadata": {
        "id": "QlMWf2n1TKQY",
        "colab_type": "code",
        "outputId": "ebd6d102-eff6-4802-e0d8-7a0d82160562",
        "colab": {
          "base_uri": "https://localhost:8080/",
          "height": 34
        }
      },
      "source": [
        "np.add(ar,10)"
      ],
      "execution_count": 79,
      "outputs": [
        {
          "output_type": "execute_result",
          "data": {
            "text/plain": [
              "array([11, 12, 13, 14, 15, 16, 17, 18, 19, 20])"
            ]
          },
          "metadata": {
            "tags": []
          },
          "execution_count": 79
        }
      ]
    },
    {
      "cell_type": "code",
      "metadata": {
        "id": "WLGzFbm1TMCa",
        "colab_type": "code",
        "outputId": "3c85fbb3-01ed-492a-d7e0-d312eea700cc",
        "colab": {
          "base_uri": "https://localhost:8080/",
          "height": 34
        }
      },
      "source": [
        "np.subtract(ar,1)"
      ],
      "execution_count": 80,
      "outputs": [
        {
          "output_type": "execute_result",
          "data": {
            "text/plain": [
              "array([0, 1, 2, 3, 4, 5, 6, 7, 8, 9])"
            ]
          },
          "metadata": {
            "tags": []
          },
          "execution_count": 80
        }
      ]
    },
    {
      "cell_type": "code",
      "metadata": {
        "id": "vWtx2nWDTPnP",
        "colab_type": "code",
        "outputId": "f2d442c1-73db-4b56-94ac-dff7c5fe8166",
        "colab": {
          "base_uri": "https://localhost:8080/",
          "height": 34
        }
      },
      "source": [
        "np.multiply(ar,3)"
      ],
      "execution_count": 81,
      "outputs": [
        {
          "output_type": "execute_result",
          "data": {
            "text/plain": [
              "array([ 3,  6,  9, 12, 15, 18, 21, 24, 27, 30])"
            ]
          },
          "metadata": {
            "tags": []
          },
          "execution_count": 81
        }
      ]
    },
    {
      "cell_type": "code",
      "metadata": {
        "id": "WmL13RfITT3q",
        "colab_type": "code",
        "outputId": "20152f16-c9b9-4330-b864-7d1ca025f378",
        "colab": {
          "base_uri": "https://localhost:8080/",
          "height": 34
        }
      },
      "source": [
        "np.divide(ar,-1)"
      ],
      "execution_count": 82,
      "outputs": [
        {
          "output_type": "execute_result",
          "data": {
            "text/plain": [
              "array([ -1.,  -2.,  -3.,  -4.,  -5.,  -6.,  -7.,  -8.,  -9., -10.])"
            ]
          },
          "metadata": {
            "tags": []
          },
          "execution_count": 82
        }
      ]
    },
    {
      "cell_type": "code",
      "metadata": {
        "id": "J3HQNywwTa1h",
        "colab_type": "code",
        "outputId": "8068d118-30a6-43a8-c3cc-5aa7da4146de",
        "colab": {
          "base_uri": "https://localhost:8080/",
          "height": 34
        }
      },
      "source": [
        "np.power(ar,2)"
      ],
      "execution_count": 83,
      "outputs": [
        {
          "output_type": "execute_result",
          "data": {
            "text/plain": [
              "array([  1,   4,   9,  16,  25,  36,  49,  64,  81, 100])"
            ]
          },
          "metadata": {
            "tags": []
          },
          "execution_count": 83
        }
      ]
    },
    {
      "cell_type": "code",
      "metadata": {
        "id": "ogR30W7MNTLq",
        "colab_type": "code",
        "colab": {}
      },
      "source": [
        "ar = np.array([1,2,3])\n",
        "ar1 = np.array([4,5,6])"
      ],
      "execution_count": 0,
      "outputs": []
    },
    {
      "cell_type": "code",
      "metadata": {
        "id": "_QkvoJWGNmca",
        "colab_type": "code",
        "outputId": "497256b8-9314-4cdf-b2c6-4c96bb471a72",
        "colab": {
          "base_uri": "https://localhost:8080/",
          "height": 34
        }
      },
      "source": [
        "np.add(ar,ar1)"
      ],
      "execution_count": 85,
      "outputs": [
        {
          "output_type": "execute_result",
          "data": {
            "text/plain": [
              "array([5, 7, 9])"
            ]
          },
          "metadata": {
            "tags": []
          },
          "execution_count": 85
        }
      ]
    },
    {
      "cell_type": "code",
      "metadata": {
        "id": "mMQS4gf0NoTt",
        "colab_type": "code",
        "outputId": "a145d157-3dad-4e83-ec42-3432cb9223e4",
        "colab": {
          "base_uri": "https://localhost:8080/",
          "height": 34
        }
      },
      "source": [
        "np.subtract(ar1,ar)"
      ],
      "execution_count": 86,
      "outputs": [
        {
          "output_type": "execute_result",
          "data": {
            "text/plain": [
              "array([3, 3, 3])"
            ]
          },
          "metadata": {
            "tags": []
          },
          "execution_count": 86
        }
      ]
    },
    {
      "cell_type": "code",
      "metadata": {
        "id": "RaHEr7zYNsQW",
        "colab_type": "code",
        "outputId": "02105cc2-7472-40bb-ea1c-7faac5d201d9",
        "colab": {
          "base_uri": "https://localhost:8080/",
          "height": 34
        }
      },
      "source": [
        "np.multiply(ar,ar1)"
      ],
      "execution_count": 87,
      "outputs": [
        {
          "output_type": "execute_result",
          "data": {
            "text/plain": [
              "array([ 4, 10, 18])"
            ]
          },
          "metadata": {
            "tags": []
          },
          "execution_count": 87
        }
      ]
    },
    {
      "cell_type": "code",
      "metadata": {
        "id": "zCihOXVNNzTh",
        "colab_type": "code",
        "outputId": "fe7dd0b7-8834-4512-994b-48a872afffd7",
        "colab": {
          "base_uri": "https://localhost:8080/",
          "height": 34
        }
      },
      "source": [
        "np.divide(ar1,ar)"
      ],
      "execution_count": 88,
      "outputs": [
        {
          "output_type": "execute_result",
          "data": {
            "text/plain": [
              "array([4. , 2.5, 2. ])"
            ]
          },
          "metadata": {
            "tags": []
          },
          "execution_count": 88
        }
      ]
    },
    {
      "cell_type": "code",
      "metadata": {
        "id": "4S-2FbBDN75x",
        "colab_type": "code",
        "outputId": "0a866d87-04c0-4154-e524-4d297b3ddaea",
        "colab": {
          "base_uri": "https://localhost:8080/",
          "height": 34
        }
      },
      "source": [
        "np.power(ar1,ar)"
      ],
      "execution_count": 89,
      "outputs": [
        {
          "output_type": "execute_result",
          "data": {
            "text/plain": [
              "array([  4,  25, 216])"
            ]
          },
          "metadata": {
            "tags": []
          },
          "execution_count": 89
        }
      ]
    },
    {
      "cell_type": "code",
      "metadata": {
        "id": "PogAPFprOCqD",
        "colab_type": "code",
        "outputId": "e8925bd5-6593-4240-ac67-c738559afc18",
        "colab": {
          "base_uri": "https://localhost:8080/",
          "height": 34
        }
      },
      "source": [
        "np.array_equal(ar,ar1)"
      ],
      "execution_count": 90,
      "outputs": [
        {
          "output_type": "execute_result",
          "data": {
            "text/plain": [
              "False"
            ]
          },
          "metadata": {
            "tags": []
          },
          "execution_count": 90
        }
      ]
    },
    {
      "cell_type": "code",
      "metadata": {
        "id": "kHCKh7F0OR49",
        "colab_type": "code",
        "colab": {}
      },
      "source": [
        "ar = np.array([4,9,16])"
      ],
      "execution_count": 0,
      "outputs": []
    },
    {
      "cell_type": "code",
      "metadata": {
        "id": "09rNi9hWOJ_n",
        "colab_type": "code",
        "outputId": "bbae6f37-bebc-489b-d010-a6fcc9132364",
        "colab": {
          "base_uri": "https://localhost:8080/",
          "height": 34
        }
      },
      "source": [
        "np.sqrt(ar)"
      ],
      "execution_count": 92,
      "outputs": [
        {
          "output_type": "execute_result",
          "data": {
            "text/plain": [
              "array([2., 3., 4.])"
            ]
          },
          "metadata": {
            "tags": []
          },
          "execution_count": 92
        }
      ]
    },
    {
      "cell_type": "code",
      "metadata": {
        "id": "Rht5jZ_aOPwJ",
        "colab_type": "code",
        "outputId": "0ee439f8-3b6c-4738-dbe5-be5aa725d969",
        "colab": {
          "base_uri": "https://localhost:8080/",
          "height": 34
        }
      },
      "source": [
        "np.sin(ar)"
      ],
      "execution_count": 93,
      "outputs": [
        {
          "output_type": "execute_result",
          "data": {
            "text/plain": [
              "array([-0.7568025 ,  0.41211849, -0.28790332])"
            ]
          },
          "metadata": {
            "tags": []
          },
          "execution_count": 93
        }
      ]
    },
    {
      "cell_type": "code",
      "metadata": {
        "id": "NR0XulDpOZi4",
        "colab_type": "code",
        "outputId": "dff6a235-1ea3-4305-dbf8-dd3202dedbb6",
        "colab": {
          "base_uri": "https://localhost:8080/",
          "height": 34
        }
      },
      "source": [
        "np.log(ar)"
      ],
      "execution_count": 94,
      "outputs": [
        {
          "output_type": "execute_result",
          "data": {
            "text/plain": [
              "array([1.38629436, 2.19722458, 2.77258872])"
            ]
          },
          "metadata": {
            "tags": []
          },
          "execution_count": 94
        }
      ]
    },
    {
      "cell_type": "code",
      "metadata": {
        "id": "iMd4UtxkOpWe",
        "colab_type": "code",
        "outputId": "5048b430-07fb-4fb2-ca4e-bc5291fd44b0",
        "colab": {
          "base_uri": "https://localhost:8080/",
          "height": 34
        }
      },
      "source": [
        "np.abs(ar)\n"
      ],
      "execution_count": 95,
      "outputs": [
        {
          "output_type": "execute_result",
          "data": {
            "text/plain": [
              "array([ 4,  9, 16])"
            ]
          },
          "metadata": {
            "tags": []
          },
          "execution_count": 95
        }
      ]
    },
    {
      "cell_type": "code",
      "metadata": {
        "id": "Fxi6jxp6Ov1i",
        "colab_type": "code",
        "colab": {}
      },
      "source": [
        "ar = np.array([1.2,3.7,5.4,6.8])"
      ],
      "execution_count": 0,
      "outputs": []
    },
    {
      "cell_type": "code",
      "metadata": {
        "id": "t_LX8bIaO34F",
        "colab_type": "code",
        "outputId": "9f2ad9f3-0d85-4d7b-e938-4d1ba5ec0ebb",
        "colab": {
          "base_uri": "https://localhost:8080/",
          "height": 34
        }
      },
      "source": [
        "np.ceil(ar)"
      ],
      "execution_count": 97,
      "outputs": [
        {
          "output_type": "execute_result",
          "data": {
            "text/plain": [
              "array([2., 4., 6., 7.])"
            ]
          },
          "metadata": {
            "tags": []
          },
          "execution_count": 97
        }
      ]
    },
    {
      "cell_type": "code",
      "metadata": {
        "id": "alnvw3e2O67n",
        "colab_type": "code",
        "outputId": "de79ea51-a7ea-4dbd-feb9-4688570c512a",
        "colab": {
          "base_uri": "https://localhost:8080/",
          "height": 34
        }
      },
      "source": [
        "np.floor(ar)"
      ],
      "execution_count": 98,
      "outputs": [
        {
          "output_type": "execute_result",
          "data": {
            "text/plain": [
              "array([1., 3., 5., 6.])"
            ]
          },
          "metadata": {
            "tags": []
          },
          "execution_count": 98
        }
      ]
    },
    {
      "cell_type": "code",
      "metadata": {
        "id": "eytG-O_DO8qq",
        "colab_type": "code",
        "outputId": "166931eb-0bad-4801-db3d-0fc3d6a84d70",
        "colab": {
          "base_uri": "https://localhost:8080/",
          "height": 34
        }
      },
      "source": [
        "np.round(ar)"
      ],
      "execution_count": 99,
      "outputs": [
        {
          "output_type": "execute_result",
          "data": {
            "text/plain": [
              "array([1., 4., 5., 7.])"
            ]
          },
          "metadata": {
            "tags": []
          },
          "execution_count": 99
        }
      ]
    },
    {
      "cell_type": "markdown",
      "metadata": {
        "id": "glClH8idPDay",
        "colab_type": "text"
      },
      "source": [
        "Statistics\n"
      ]
    },
    {
      "cell_type": "code",
      "metadata": {
        "id": "eAyksAhgPJbh",
        "colab_type": "code",
        "colab": {}
      },
      "source": [
        "ar = np.array([1,2,3,4,5,6,7,8,9,10])"
      ],
      "execution_count": 0,
      "outputs": []
    },
    {
      "cell_type": "code",
      "metadata": {
        "id": "zOG83Y-RO_8T",
        "colab_type": "code",
        "outputId": "ac4f95ba-f3b8-40e8-f481-86bd7be19d89",
        "colab": {
          "base_uri": "https://localhost:8080/",
          "height": 34
        }
      },
      "source": [
        "np.mean(ar)"
      ],
      "execution_count": 101,
      "outputs": [
        {
          "output_type": "execute_result",
          "data": {
            "text/plain": [
              "5.5"
            ]
          },
          "metadata": {
            "tags": []
          },
          "execution_count": 101
        }
      ]
    },
    {
      "cell_type": "code",
      "metadata": {
        "id": "A3UT0gkrPN0w",
        "colab_type": "code",
        "outputId": "9eea0131-d41b-4599-9f85-202eefdec630",
        "colab": {
          "base_uri": "https://localhost:8080/",
          "height": 34
        }
      },
      "source": [
        "ar.sum()"
      ],
      "execution_count": 102,
      "outputs": [
        {
          "output_type": "execute_result",
          "data": {
            "text/plain": [
              "55"
            ]
          },
          "metadata": {
            "tags": []
          },
          "execution_count": 102
        }
      ]
    },
    {
      "cell_type": "code",
      "metadata": {
        "id": "3CffpNGZPc_v",
        "colab_type": "code",
        "outputId": "3cb41efe-6bdc-4374-9026-0734f5e0af91",
        "colab": {
          "base_uri": "https://localhost:8080/",
          "height": 34
        }
      },
      "source": [
        "ar.min()"
      ],
      "execution_count": 103,
      "outputs": [
        {
          "output_type": "execute_result",
          "data": {
            "text/plain": [
              "1"
            ]
          },
          "metadata": {
            "tags": []
          },
          "execution_count": 103
        }
      ]
    },
    {
      "cell_type": "code",
      "metadata": {
        "id": "BlshEjhrPgM3",
        "colab_type": "code",
        "outputId": "cc9749d8-8981-46ea-e2d9-b306fe5a16db",
        "colab": {
          "base_uri": "https://localhost:8080/",
          "height": 34
        }
      },
      "source": [
        "ar.max()"
      ],
      "execution_count": 104,
      "outputs": [
        {
          "output_type": "execute_result",
          "data": {
            "text/plain": [
              "10"
            ]
          },
          "metadata": {
            "tags": []
          },
          "execution_count": 104
        }
      ]
    },
    {
      "cell_type": "code",
      "metadata": {
        "id": "NiFkD4MaPjit",
        "colab_type": "code",
        "outputId": "bd9ad3db-521b-498e-9219-574a0777b23d",
        "colab": {
          "base_uri": "https://localhost:8080/",
          "height": 34
        }
      },
      "source": [
        "np.var(ar)"
      ],
      "execution_count": 105,
      "outputs": [
        {
          "output_type": "execute_result",
          "data": {
            "text/plain": [
              "8.25"
            ]
          },
          "metadata": {
            "tags": []
          },
          "execution_count": 105
        }
      ]
    },
    {
      "cell_type": "code",
      "metadata": {
        "id": "CNmqEDIKPmyN",
        "colab_type": "code",
        "outputId": "1dbecfc7-d68a-4259-f4b0-d97ccb18349b",
        "colab": {
          "base_uri": "https://localhost:8080/",
          "height": 34
        }
      },
      "source": [
        "np.std(ar)"
      ],
      "execution_count": 107,
      "outputs": [
        {
          "output_type": "execute_result",
          "data": {
            "text/plain": [
              "2.8722813232690143"
            ]
          },
          "metadata": {
            "tags": []
          },
          "execution_count": 107
        }
      ]
    },
    {
      "cell_type": "code",
      "metadata": {
        "id": "_XfyyLjN7sKs",
        "colab_type": "code",
        "colab": {}
      },
      "source": [
        "ar = np.array([1,2,3,4,5,6,7,8,9,10])"
      ],
      "execution_count": 0,
      "outputs": []
    },
    {
      "cell_type": "code",
      "metadata": {
        "id": "X_jJp97k712w",
        "colab_type": "code",
        "colab": {}
      },
      "source": [
        "ar1 = np.where(ar>5, ar*100,ar)"
      ],
      "execution_count": 0,
      "outputs": []
    },
    {
      "cell_type": "code",
      "metadata": {
        "id": "HEB-cKcv7_NQ",
        "colab_type": "code",
        "colab": {
          "base_uri": "https://localhost:8080/",
          "height": 34
        },
        "outputId": "9d625a25-544c-4c8e-8c1e-e53f9effaee4"
      },
      "source": [
        "ar1"
      ],
      "execution_count": 121,
      "outputs": [
        {
          "output_type": "execute_result",
          "data": {
            "text/plain": [
              "array([   1,    2,    3,    4,    5,  600,  700,  800,  900, 1000])"
            ]
          },
          "metadata": {
            "tags": []
          },
          "execution_count": 121
        }
      ]
    },
    {
      "cell_type": "code",
      "metadata": {
        "id": "b6wkksHn8AcQ",
        "colab_type": "code",
        "colab": {}
      },
      "source": [
        "my_list = [1,2,3],[4,5,6]"
      ],
      "execution_count": 0,
      "outputs": []
    },
    {
      "cell_type": "code",
      "metadata": {
        "id": "kfiG6J_aBxUm",
        "colab_type": "code",
        "colab": {}
      },
      "source": [
        "ar = np.array(my_list)"
      ],
      "execution_count": 0,
      "outputs": []
    },
    {
      "cell_type": "code",
      "metadata": {
        "id": "0-O41dyYB5wk",
        "colab_type": "code",
        "colab": {
          "base_uri": "https://localhost:8080/",
          "height": 51
        },
        "outputId": "9ee1cad8-ace9-4f20-8b24-c8883360132d"
      },
      "source": [
        "ar"
      ],
      "execution_count": 124,
      "outputs": [
        {
          "output_type": "execute_result",
          "data": {
            "text/plain": [
              "array([[1, 2, 3],\n",
              "       [4, 5, 6]])"
            ]
          },
          "metadata": {
            "tags": []
          },
          "execution_count": 124
        }
      ]
    },
    {
      "cell_type": "code",
      "metadata": {
        "id": "sFkvg74LB8uH",
        "colab_type": "code",
        "colab": {}
      },
      "source": [
        "ar1 = np.where(ar>3, ar*100,ar)"
      ],
      "execution_count": 0,
      "outputs": []
    },
    {
      "cell_type": "code",
      "metadata": {
        "id": "5kh5GIlBB_sA",
        "colab_type": "code",
        "colab": {
          "base_uri": "https://localhost:8080/",
          "height": 51
        },
        "outputId": "805f3b96-d681-42d0-ecfd-b9489b9f9dfe"
      },
      "source": [
        "ar1"
      ],
      "execution_count": 126,
      "outputs": [
        {
          "output_type": "execute_result",
          "data": {
            "text/plain": [
              "array([[  1,   2,   3],\n",
              "       [400, 500, 600]])"
            ]
          },
          "metadata": {
            "tags": []
          },
          "execution_count": 126
        }
      ]
    },
    {
      "cell_type": "code",
      "metadata": {
        "id": "b5jWJyYXCAeY",
        "colab_type": "code",
        "colab": {}
      },
      "source": [
        ""
      ],
      "execution_count": 0,
      "outputs": []
    }
  ]
}